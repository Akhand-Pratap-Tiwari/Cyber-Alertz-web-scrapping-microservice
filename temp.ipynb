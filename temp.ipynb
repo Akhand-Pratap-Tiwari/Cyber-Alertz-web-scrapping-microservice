{
 "cells": [
  {
   "cell_type": "code",
   "execution_count": 1,
   "metadata": {},
   "outputs": [],
   "source": [
    "from embeddings_generator import get_embeddings"
   ]
  },
  {
   "cell_type": "code",
   "execution_count": 2,
   "metadata": {},
   "outputs": [],
   "source": [
    "# text = \"Threat actors are attempting to abuse the open-source EDRSilencer tool as part of efforts to tamper endpoint detection and response (EDR) solutions and hide malicious activity. Trend Micro said it detected \\\"threat actors attempting to integrate EDRSilencer in their attacks, repurposing it as a means of evading detection.\\\" EDRSilencer, inspired by the NightHawk FireBlock tool from MDSec, is designed to block outbound traffic of running EDR processes using the Windows Filtering Platform (WFP). It supports terminating various processes related to EDR products from Microsoft, Elastic, Trellix, Qualys, SentinelOne, Cybereason, Broadcom Carbon Black, Tanium, Palo Alto Networks, Fortinet, Cisco, ESET, HarfangLab, and Trend Micro. By incorporating such legitimate red teaming tools into their arsenal, the goal is to render EDR software ineffective and make it a lot more challenging to identify and remove malware. \\\"The WFP is a powerful framework built into Windows for creating network filtering and security applications,\\\" Trend Micro researchers said. \\\"It provides APIs for developers to define custom rules to monitor, block, or modify network traffic based on various criteria, such as IP addresses, ports, protocols, and applications.\\\" \\\"WFP is used in firewalls, antivirus software, and other security solutions to protect systems and networks.\\\" EDRSilencer takes advantage of WFP by dynamically identifying running EDR processes and creating persistent WFP filters to block their outbound network communications on both IPv4 and IPv6, thereby preventing security software from sending telemetry to their management consoles. The attack essentially works by scanning the system to gather a list of running processes associated with common EDR products, followed by running EDRSilencer with the argument \\\"blockedr\\\" (e.g., EDRSilencer.exe blockedr) to inhibit outbound traffic from those processes by configuring WFP filters. \\\"This allows malware or other malicious activities to remain undetected, increasing the potential for successful attacks without detection or intervention,\\\" the researchers said. \\\"This highlights the ongoing trend of threat actors seeking more effective tools for their attacks, especially those designed to disable antivirus and EDR solutions.\\\" The development comes as ransomware groups' use of formidable EDR-killing tools like AuKill (aka AvNeutralizer), EDRKillShifter, TrueSightKiller, GhostDriver, and Terminator is on the rise, with these programs weaponizing vulnerable drivers to escalate privileges and terminate security-related processes. \\\"EDRKillShifter enhances persistence mechanisms by employing techniques that ensure its continuous presence within the system, even after initial compromises are discovered and cleaned,\\\" Trend Micro said in a recent analysis. \\\"It dynamically disrupts security processes in real-time and adapts its methods as detection capabilities evolve, staying a step ahead of traditional EDR tools.\\\"\"\n"
   ]
  },
  {
   "cell_type": "code",
   "execution_count": 14,
   "metadata": {},
   "outputs": [
    {
     "name": "stdout",
     "output_type": "stream",
     "text": [
      "Gret\n",
      "18 18853 2656\n",
      "21 15549 2356\n",
      "22 10292 1563\n",
      "23 12009 1885\n",
      "25 13641 2141\n",
      "28 10292 1563\n",
      "29 12009 1885\n",
      "Smol\n",
      "0 2973 414\n",
      "1 2164 327\n",
      "2 6187 962\n",
      "3 3578 530\n",
      "4 7001 1104\n",
      "5 1915 278\n",
      "6 1590 233\n",
      "7 1507 219\n",
      "8 3286 488\n",
      "9 3349 435\n",
      "10 2795 402\n",
      "11 2906 427\n",
      "12 3204 434\n",
      "13 3528 449\n",
      "14 2828 400\n",
      "15 2742 400\n",
      "16 2683 364\n",
      "17 2430 333\n",
      "19 1586 231\n",
      "20 9874 1534\n",
      "24 9271 1470\n",
      "26 1583 278\n",
      "27 4124 685\n",
      "30 9271 1470\n"
     ]
    }
   ],
   "source": [
    "import json\n",
    "\n",
    "data = []\n",
    "\n",
    "with open('purified_articles.json', 'r') as f:\n",
    "    data = json.load(f)\n",
    "\n",
    "print(\"Gret\")\n",
    "for i, news in enumerate(data):\n",
    "    text = news[\"description\"]\n",
    "    num_words = len(text.split())\n",
    "    l = len(text.encode('utf-8'))\n",
    "    if(l > 10_000): print(i, l, num_words)\n",
    "\n",
    "print(\"Smol\")\n",
    "for i, news in enumerate(data):\n",
    "    text = news[\"description\"]\n",
    "    num_words = len(text.split())\n",
    "    l = len(text.encode('utf-8'))\n",
    "    if(l <= 10_000): print(i, l, num_words)\n",
    "\n",
    "# print(get_embeddings(text))"
   ]
  },
  {
   "cell_type": "code",
   "execution_count": 15,
   "metadata": {},
   "outputs": [
    {
     "name": "stdout",
     "output_type": "stream",
     "text": [
      "Gret\n",
      "19 18867 2666\n",
      "32 11204 1724\n",
      "Smol\n",
      "0 2973 414\n",
      "1 2164 327\n",
      "2 6187 962\n",
      "3 3578 530\n",
      "4 7001 1104\n",
      "5 1915 278\n",
      "6 1590 233\n",
      "7 1507 219\n",
      "8 3286 488\n",
      "9 3337 435\n",
      "10 2793 402\n",
      "11 2906 427\n",
      "12 3204 434\n",
      "13 3446 437\n",
      "14 2827 400\n",
      "15 2742 400\n",
      "16 2683 364\n",
      "17 2430 333\n",
      "18 3750 473\n",
      "20 2827 400\n",
      "21 2742 400\n",
      "22 1588 231\n",
      "23 2063 324\n",
      "24 3958 572\n",
      "25 910 139\n",
      "26 775 119\n",
      "27 3165 494\n",
      "28 7952 1194\n",
      "29 8029 1252\n",
      "30 1684 273\n",
      "31 1376 208\n",
      "33 6114 905\n",
      "34 6251 987\n",
      "35 7952 1194\n",
      "36 6114 905\n",
      "37 237 36\n",
      "38 9562 1475\n",
      "39 6472 1113\n",
      "40 3396 558\n",
      "41 308 45\n"
     ]
    }
   ],
   "source": [
    "import json\n",
    "\n",
    "data = []\n",
    "\n",
    "with open('purified_articles.json', 'r') as f:\n",
    "    data = json.load(f)\n",
    "\n",
    "print(\"Gret\")\n",
    "for i, news in enumerate(data):\n",
    "    text = news[\"description\"]\n",
    "    num_words = len(text.split())\n",
    "    l = len(text.encode('utf-8'))\n",
    "    if(l > 10_000): print(i, l, num_words)\n",
    "\n",
    "print(\"Smol\")\n",
    "for i, news in enumerate(data):\n",
    "    text = news[\"description\"]\n",
    "    num_words = len(text.split())\n",
    "    l = len(text.encode('utf-8'))\n",
    "    if(l <= 10_000): print(i, l, num_words)\n",
    "\n",
    "# print(get_embeddings(text))"
   ]
  }
 ],
 "metadata": {
  "kernelspec": {
   "display_name": ".venv",
   "language": "python",
   "name": "python3"
  },
  "language_info": {
   "codemirror_mode": {
    "name": "ipython",
    "version": 3
   },
   "file_extension": ".py",
   "mimetype": "text/x-python",
   "name": "python",
   "nbconvert_exporter": "python",
   "pygments_lexer": "ipython3",
   "version": "3.11.9"
  }
 },
 "nbformat": 4,
 "nbformat_minor": 2
}
